{
  "nbformat": 4,
  "nbformat_minor": 0,
  "metadata": {
    "colab": {
      "provenance": []
    },
    "kernelspec": {
      "name": "python3",
      "display_name": "Python 3"
    },
    "language_info": {
      "name": "python"
    }
  },
  "cells": [
    {
      "cell_type": "code",
      "execution_count": 2,
      "metadata": {
        "id": "-SIQ4Izl_v6z"
      },
      "outputs": [],
      "source": [
        "# https://huggingface.co/openai-community/gpt2?text=My+name+is+Thomas+and+my+main\n",
        "\n",
        "from transformers import pipeline, set_seed\n",
        "generator = pipeline('text-generation', model='gpt2')\n",
        "set_seed(42)\n"
      ]
    },
    {
      "cell_type": "code",
      "source": [
        "# Example text\n",
        "live_text = \"Hello Jim, how are you\""
      ],
      "metadata": {
        "id": "OPaQpGRvDM4S"
      },
      "execution_count": 37,
      "outputs": []
    },
    {
      "cell_type": "code",
      "source": [
        "number_of_words_to_predict = 1\n",
        "number_of_options = 5\n",
        "\n",
        "test = generator(live_text, max_new_tokens=number_of_words_to_predict, num_return_sequences=number_of_options)"
      ],
      "metadata": {
        "colab": {
          "base_uri": "https://localhost:8080/"
        },
        "id": "iu1tQUNQ_xOJ",
        "outputId": "85adda9e-d180-4968-9e16-b54482ac666a"
      },
      "execution_count": 38,
      "outputs": [
        {
          "output_type": "stream",
          "name": "stderr",
          "text": [
            "Setting `pad_token_id` to `eos_token_id`:50256 for open-end generation.\n"
          ]
        }
      ]
    },
    {
      "cell_type": "code",
      "source": [
        "test"
      ],
      "metadata": {
        "colab": {
          "base_uri": "https://localhost:8080/"
        },
        "id": "Ky4igXajGTbG",
        "outputId": "a6c5fd7f-3884-4369-c2f2-e71ccd702649"
      },
      "execution_count": 39,
      "outputs": [
        {
          "output_type": "execute_result",
          "data": {
            "text/plain": [
              "[{'generated_text': 'Hello Jim, how are you holding'},\n",
              " {'generated_text': 'Hello Jim, how are you and'},\n",
              " {'generated_text': 'Hello Jim, how are you?'},\n",
              " {'generated_text': 'Hello Jim, how are you guys'},\n",
              " {'generated_text': 'Hello Jim, how are you doing'}]"
            ]
          },
          "metadata": {},
          "execution_count": 39
        }
      ]
    },
    {
      "cell_type": "code",
      "source": [
        "# Info about getting last word from string\n",
        "# https://stackoverflow.com/questions/67615195/python-how-to-get-the-last-word-from-a-sentence-in-python\n",
        "\n",
        "test[0]['generated_text'].split()[-1]\n"
      ],
      "metadata": {
        "colab": {
          "base_uri": "https://localhost:8080/",
          "height": 35
        },
        "id": "yg1WSXAYETTD",
        "outputId": "136c9974-3eb6-4a4c-ad5c-1308cbb96c08"
      },
      "execution_count": 40,
      "outputs": [
        {
          "output_type": "execute_result",
          "data": {
            "text/plain": [
              "'holding'"
            ],
            "application/vnd.google.colaboratory.intrinsic+json": {
              "type": "string"
            }
          },
          "metadata": {},
          "execution_count": 40
        }
      ]
    },
    {
      "cell_type": "code",
      "source": [
        "test[1]['generated_text'].split()[-1]"
      ],
      "metadata": {
        "colab": {
          "base_uri": "https://localhost:8080/",
          "height": 35
        },
        "id": "mQshHUYFFVM6",
        "outputId": "1b13c7f7-55e3-4424-befe-fd74009b63ea"
      },
      "execution_count": 41,
      "outputs": [
        {
          "output_type": "execute_result",
          "data": {
            "text/plain": [
              "'and'"
            ],
            "application/vnd.google.colaboratory.intrinsic+json": {
              "type": "string"
            }
          },
          "metadata": {},
          "execution_count": 41
        }
      ]
    },
    {
      "cell_type": "code",
      "source": [
        "test[2]['generated_text'].split()[-1]"
      ],
      "metadata": {
        "colab": {
          "base_uri": "https://localhost:8080/",
          "height": 35
        },
        "id": "VKUXfCnvGNXh",
        "outputId": "530e2e5f-c0ab-4de3-bf9b-6b8b21e6645d"
      },
      "execution_count": 42,
      "outputs": [
        {
          "output_type": "execute_result",
          "data": {
            "text/plain": [
              "'you?'"
            ],
            "application/vnd.google.colaboratory.intrinsic+json": {
              "type": "string"
            }
          },
          "metadata": {},
          "execution_count": 42
        }
      ]
    },
    {
      "cell_type": "code",
      "source": [
        "test[3]['generated_text'].split()[-1]"
      ],
      "metadata": {
        "colab": {
          "base_uri": "https://localhost:8080/",
          "height": 35
        },
        "id": "XUbxprxqGOly",
        "outputId": "490f9eda-da42-4c43-a232-7b8c8a846771"
      },
      "execution_count": 43,
      "outputs": [
        {
          "output_type": "execute_result",
          "data": {
            "text/plain": [
              "'guys'"
            ],
            "application/vnd.google.colaboratory.intrinsic+json": {
              "type": "string"
            }
          },
          "metadata": {},
          "execution_count": 43
        }
      ]
    },
    {
      "cell_type": "code",
      "source": [
        "test[4]['generated_text'].split()[-1]"
      ],
      "metadata": {
        "colab": {
          "base_uri": "https://localhost:8080/",
          "height": 35
        },
        "id": "SiBfnZkoGhUs",
        "outputId": "136ad383-0143-48e6-e913-daba7cfbafc4"
      },
      "execution_count": 44,
      "outputs": [
        {
          "output_type": "execute_result",
          "data": {
            "text/plain": [
              "'doing'"
            ],
            "application/vnd.google.colaboratory.intrinsic+json": {
              "type": "string"
            }
          },
          "metadata": {},
          "execution_count": 44
        }
      ]
    },
    {
      "cell_type": "code",
      "source": [],
      "metadata": {
        "id": "mF_UXGs5Gi7B"
      },
      "execution_count": null,
      "outputs": []
    }
  ]
}